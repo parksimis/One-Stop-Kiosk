{
 "cells": [
  {
   "cell_type": "code",
   "execution_count": 71,
   "id": "impressed-negative",
   "metadata": {},
   "outputs": [],
   "source": [
    "import pandas as pd\n",
    "import numpy as np\n",
    "import scipy as sp"
   ]
  },
  {
   "cell_type": "code",
   "execution_count": 277,
   "id": "isolated-episode",
   "metadata": {},
   "outputs": [],
   "source": [
    "data = pd.read_csv(\"data/final_data.csv\", index_col=0)"
   ]
  },
  {
   "cell_type": "code",
   "execution_count": 278,
   "id": "noticed-valve",
   "metadata": {},
   "outputs": [],
   "source": [
    "# 노년 연령대만 추출\n",
    "data = data[data['연령대'] == '노년']"
   ]
  },
  {
   "cell_type": "code",
   "execution_count": 279,
   "id": "compact-executive",
   "metadata": {
    "scrolled": true
   },
   "outputs": [],
   "source": [
    "data = data.reset_index(drop=True)"
   ]
  },
  {
   "cell_type": "code",
   "execution_count": 280,
   "id": "blind-sewing",
   "metadata": {
    "scrolled": true
   },
   "outputs": [
    {
     "data": {
      "text/plain": [
       "Index(['시간대', '성별', '연령대', '지역', '기분', '1순위', '2순위', '3순위', '기온', '강수량', '습도',\n",
       "       '기압', '전운량', '불고기', '냉면', '칼국수', '된장찌개', '비빔밥', '김치찌개', '떡볶이', '김밥',\n",
       "       '파스타', '스테이크', '햄버거', '초밥', '우동', '메밀소바', '돈가스', '볶음밥', '짜장면', '짬뽕',\n",
       "       '날짜', '시간', '요일'],\n",
       "      dtype='object')"
      ]
     },
     "execution_count": 280,
     "metadata": {},
     "output_type": "execute_result"
    }
   ],
   "source": [
    "data.columns"
   ]
  },
  {
   "cell_type": "code",
   "execution_count": 281,
   "id": "literary-consensus",
   "metadata": {},
   "outputs": [
    {
     "data": {
      "text/html": [
       "<div>\n",
       "<style scoped>\n",
       "    .dataframe tbody tr th:only-of-type {\n",
       "        vertical-align: middle;\n",
       "    }\n",
       "\n",
       "    .dataframe tbody tr th {\n",
       "        vertical-align: top;\n",
       "    }\n",
       "\n",
       "    .dataframe thead th {\n",
       "        text-align: right;\n",
       "    }\n",
       "</style>\n",
       "<table border=\"1\" class=\"dataframe\">\n",
       "  <thead>\n",
       "    <tr style=\"text-align: right;\">\n",
       "      <th></th>\n",
       "      <th>시간대</th>\n",
       "      <th>성별</th>\n",
       "      <th>연령대</th>\n",
       "      <th>지역</th>\n",
       "      <th>기분</th>\n",
       "      <th>1순위</th>\n",
       "      <th>2순위</th>\n",
       "      <th>3순위</th>\n",
       "      <th>기온</th>\n",
       "      <th>강수량</th>\n",
       "      <th>...</th>\n",
       "      <th>초밥</th>\n",
       "      <th>우동</th>\n",
       "      <th>메밀소바</th>\n",
       "      <th>돈가스</th>\n",
       "      <th>볶음밥</th>\n",
       "      <th>짜장면</th>\n",
       "      <th>짬뽕</th>\n",
       "      <th>날짜</th>\n",
       "      <th>시간</th>\n",
       "      <th>요일</th>\n",
       "    </tr>\n",
       "  </thead>\n",
       "  <tbody>\n",
       "    <tr>\n",
       "      <th>0</th>\n",
       "      <td>2021-05-16 16:00:00</td>\n",
       "      <td>여자</td>\n",
       "      <td>노년</td>\n",
       "      <td>서울</td>\n",
       "      <td>중립</td>\n",
       "      <td>한식</td>\n",
       "      <td>일식</td>\n",
       "      <td>분식</td>\n",
       "      <td>17.7</td>\n",
       "      <td>4.8</td>\n",
       "      <td>...</td>\n",
       "      <td>0.0</td>\n",
       "      <td>1.0</td>\n",
       "      <td>0.0</td>\n",
       "      <td>0.0</td>\n",
       "      <td>NaN</td>\n",
       "      <td>NaN</td>\n",
       "      <td>NaN</td>\n",
       "      <td>05-16</td>\n",
       "      <td>16</td>\n",
       "      <td>일</td>\n",
       "    </tr>\n",
       "    <tr>\n",
       "      <th>1</th>\n",
       "      <td>2021-05-18 12:00:00</td>\n",
       "      <td>여자</td>\n",
       "      <td>노년</td>\n",
       "      <td>서울</td>\n",
       "      <td>행복</td>\n",
       "      <td>일식</td>\n",
       "      <td>분식</td>\n",
       "      <td>한식</td>\n",
       "      <td>20.5</td>\n",
       "      <td>0.0</td>\n",
       "      <td>...</td>\n",
       "      <td>1.0</td>\n",
       "      <td>0.0</td>\n",
       "      <td>0.0</td>\n",
       "      <td>0.0</td>\n",
       "      <td>NaN</td>\n",
       "      <td>NaN</td>\n",
       "      <td>NaN</td>\n",
       "      <td>05-18</td>\n",
       "      <td>12</td>\n",
       "      <td>화</td>\n",
       "    </tr>\n",
       "    <tr>\n",
       "      <th>2</th>\n",
       "      <td>2021-05-18 13:00:00</td>\n",
       "      <td>남자</td>\n",
       "      <td>노년</td>\n",
       "      <td>서울</td>\n",
       "      <td>행복</td>\n",
       "      <td>한식</td>\n",
       "      <td>중식</td>\n",
       "      <td>일식</td>\n",
       "      <td>22.2</td>\n",
       "      <td>0.0</td>\n",
       "      <td>...</td>\n",
       "      <td>1.0</td>\n",
       "      <td>0.0</td>\n",
       "      <td>0.0</td>\n",
       "      <td>0.0</td>\n",
       "      <td>0.0</td>\n",
       "      <td>1.0</td>\n",
       "      <td>0.0</td>\n",
       "      <td>05-18</td>\n",
       "      <td>13</td>\n",
       "      <td>화</td>\n",
       "    </tr>\n",
       "    <tr>\n",
       "      <th>3</th>\n",
       "      <td>2021-05-18 18:00:00</td>\n",
       "      <td>남자</td>\n",
       "      <td>노년</td>\n",
       "      <td>서울</td>\n",
       "      <td>행복</td>\n",
       "      <td>한식</td>\n",
       "      <td>일식</td>\n",
       "      <td>중식</td>\n",
       "      <td>22.6</td>\n",
       "      <td>0.0</td>\n",
       "      <td>...</td>\n",
       "      <td>1.0</td>\n",
       "      <td>0.0</td>\n",
       "      <td>0.0</td>\n",
       "      <td>0.0</td>\n",
       "      <td>0.0</td>\n",
       "      <td>0.0</td>\n",
       "      <td>1.0</td>\n",
       "      <td>05-18</td>\n",
       "      <td>18</td>\n",
       "      <td>화</td>\n",
       "    </tr>\n",
       "    <tr>\n",
       "      <th>4</th>\n",
       "      <td>2021-05-19 06:00:00</td>\n",
       "      <td>남자</td>\n",
       "      <td>노년</td>\n",
       "      <td>수도권</td>\n",
       "      <td>행복</td>\n",
       "      <td>한식</td>\n",
       "      <td>양식</td>\n",
       "      <td>일식</td>\n",
       "      <td>10.7</td>\n",
       "      <td>0.0</td>\n",
       "      <td>...</td>\n",
       "      <td>0.0</td>\n",
       "      <td>1.0</td>\n",
       "      <td>0.0</td>\n",
       "      <td>1.0</td>\n",
       "      <td>NaN</td>\n",
       "      <td>NaN</td>\n",
       "      <td>NaN</td>\n",
       "      <td>05-19</td>\n",
       "      <td>6</td>\n",
       "      <td>수</td>\n",
       "    </tr>\n",
       "    <tr>\n",
       "      <th>5</th>\n",
       "      <td>2021-05-20 10:00:00</td>\n",
       "      <td>남자</td>\n",
       "      <td>노년</td>\n",
       "      <td>수도권</td>\n",
       "      <td>행복</td>\n",
       "      <td>한식</td>\n",
       "      <td>중식</td>\n",
       "      <td>일식</td>\n",
       "      <td>18.1</td>\n",
       "      <td>0.1</td>\n",
       "      <td>...</td>\n",
       "      <td>0.0</td>\n",
       "      <td>1.0</td>\n",
       "      <td>0.0</td>\n",
       "      <td>1.0</td>\n",
       "      <td>0.0</td>\n",
       "      <td>1.0</td>\n",
       "      <td>1.0</td>\n",
       "      <td>05-20</td>\n",
       "      <td>10</td>\n",
       "      <td>목</td>\n",
       "    </tr>\n",
       "    <tr>\n",
       "      <th>6</th>\n",
       "      <td>2021-05-20 10:00:00</td>\n",
       "      <td>여자</td>\n",
       "      <td>노년</td>\n",
       "      <td>수도권</td>\n",
       "      <td>행복</td>\n",
       "      <td>한식</td>\n",
       "      <td>일식</td>\n",
       "      <td>중식</td>\n",
       "      <td>18.1</td>\n",
       "      <td>0.1</td>\n",
       "      <td>...</td>\n",
       "      <td>0.0</td>\n",
       "      <td>1.0</td>\n",
       "      <td>1.0</td>\n",
       "      <td>1.0</td>\n",
       "      <td>1.0</td>\n",
       "      <td>1.0</td>\n",
       "      <td>1.0</td>\n",
       "      <td>05-20</td>\n",
       "      <td>10</td>\n",
       "      <td>목</td>\n",
       "    </tr>\n",
       "    <tr>\n",
       "      <th>7</th>\n",
       "      <td>2021-05-20 10:00:00</td>\n",
       "      <td>남자</td>\n",
       "      <td>노년</td>\n",
       "      <td>경상도</td>\n",
       "      <td>행복</td>\n",
       "      <td>한식</td>\n",
       "      <td>중식</td>\n",
       "      <td>분식</td>\n",
       "      <td>16.8</td>\n",
       "      <td>1.1</td>\n",
       "      <td>...</td>\n",
       "      <td>NaN</td>\n",
       "      <td>NaN</td>\n",
       "      <td>NaN</td>\n",
       "      <td>NaN</td>\n",
       "      <td>1.0</td>\n",
       "      <td>0.0</td>\n",
       "      <td>0.0</td>\n",
       "      <td>05-20</td>\n",
       "      <td>10</td>\n",
       "      <td>목</td>\n",
       "    </tr>\n",
       "  </tbody>\n",
       "</table>\n",
       "<p>8 rows × 34 columns</p>\n",
       "</div>"
      ],
      "text/plain": [
       "                   시간대  성별 연령대   지역  기분 1순위 2순위 3순위    기온  강수량  ...   초밥   우동  \\\n",
       "0  2021-05-16 16:00:00  여자  노년   서울  중립  한식  일식  분식  17.7  4.8  ...  0.0  1.0   \n",
       "1  2021-05-18 12:00:00  여자  노년   서울  행복  일식  분식  한식  20.5  0.0  ...  1.0  0.0   \n",
       "2  2021-05-18 13:00:00  남자  노년   서울  행복  한식  중식  일식  22.2  0.0  ...  1.0  0.0   \n",
       "3  2021-05-18 18:00:00  남자  노년   서울  행복  한식  일식  중식  22.6  0.0  ...  1.0  0.0   \n",
       "4  2021-05-19 06:00:00  남자  노년  수도권  행복  한식  양식  일식  10.7  0.0  ...  0.0  1.0   \n",
       "5  2021-05-20 10:00:00  남자  노년  수도권  행복  한식  중식  일식  18.1  0.1  ...  0.0  1.0   \n",
       "6  2021-05-20 10:00:00  여자  노년  수도권  행복  한식  일식  중식  18.1  0.1  ...  0.0  1.0   \n",
       "7  2021-05-20 10:00:00  남자  노년  경상도  행복  한식  중식  분식  16.8  1.1  ...  NaN  NaN   \n",
       "\n",
       "   메밀소바  돈가스  볶음밥  짜장면   짬뽕     날짜  시간  요일  \n",
       "0   0.0  0.0  NaN  NaN  NaN  05-16  16   일  \n",
       "1   0.0  0.0  NaN  NaN  NaN  05-18  12   화  \n",
       "2   0.0  0.0  0.0  1.0  0.0  05-18  13   화  \n",
       "3   0.0  0.0  0.0  0.0  1.0  05-18  18   화  \n",
       "4   0.0  1.0  NaN  NaN  NaN  05-19   6   수  \n",
       "5   0.0  1.0  0.0  1.0  1.0  05-20  10   목  \n",
       "6   1.0  1.0  1.0  1.0  1.0  05-20  10   목  \n",
       "7   NaN  NaN  1.0  0.0  0.0  05-20  10   목  \n",
       "\n",
       "[8 rows x 34 columns]"
      ]
     },
     "execution_count": 281,
     "metadata": {},
     "output_type": "execute_result"
    }
   ],
   "source": [
    "data"
   ]
  },
  {
   "cell_type": "markdown",
   "id": "graduate-happiness",
   "metadata": {},
   "source": [
    "### oversampling 함수 정의"
   ]
  },
  {
   "cell_type": "code",
   "execution_count": 282,
   "id": "japanese-patrol",
   "metadata": {},
   "outputs": [],
   "source": [
    "def oversampling(x):\n",
    "    d = data[x].value_counts() / len(data)\n",
    "    print(d.index)\n",
    "    print(d.values)\n",
    "\n",
    "    random.seed(1234)\n",
    "    random_data = np.random.choice(len(d.index), 42, p=d.values)\n",
    "    \n",
    "    random_list = [d.index[n] for n in random_data]\n",
    "    return random_list"
   ]
  },
  {
   "cell_type": "code",
   "execution_count": 283,
   "id": "million-jesus",
   "metadata": {},
   "outputs": [
    {
     "data": {
      "text/plain": [
       "남자    0.625\n",
       "여자    0.375\n",
       "Name: 성별, dtype: float64"
      ]
     },
     "execution_count": 283,
     "metadata": {},
     "output_type": "execute_result"
    }
   ],
   "source": [
    "data['성별'].value_counts() / len(data)"
   ]
  },
  {
   "cell_type": "code",
   "execution_count": 284,
   "id": "herbal-pickup",
   "metadata": {},
   "outputs": [
    {
     "data": {
      "text/plain": [
       "중식    3\n",
       "일식    3\n",
       "양식    1\n",
       "Name: 2순위, dtype: int64"
      ]
     },
     "execution_count": 284,
     "metadata": {},
     "output_type": "execute_result"
    }
   ],
   "source": [
    "data.loc[data['1순위']=='한식', '2순위'].value_counts()"
   ]
  },
  {
   "cell_type": "code",
   "execution_count": 285,
   "id": "passive-attention",
   "metadata": {},
   "outputs": [
    {
     "name": "stdout",
     "output_type": "stream",
     "text": [
      "Index(['남자', '여자'], dtype='object')\n",
      "[0.625 0.375]\n",
      "Index(['노년'], dtype='object')\n",
      "[1.]\n",
      "Index(['행복', '중립'], dtype='object')\n",
      "[0.875 0.125]\n",
      "Index(['한식', '일식'], dtype='object')\n",
      "[0.875 0.125]\n",
      "Index(['중식', '일식', '양식', '분식'], dtype='object')\n",
      "[0.375 0.375 0.125 0.125]\n",
      "Index(['일식', '중식', '분식', '한식'], dtype='object')\n",
      "[0.375 0.25  0.25  0.125]\n"
     ]
    }
   ],
   "source": [
    "sex = oversampling('성별')\n",
    "age = oversampling('연령대')\n",
    "feeling = oversampling('기분')\n",
    "first = oversampling('1순위')\n",
    "second = oversampling('2순위')\n",
    "third = oversampling('3순위')"
   ]
  },
  {
   "cell_type": "code",
   "execution_count": 286,
   "id": "existing-narrow",
   "metadata": {},
   "outputs": [],
   "source": [
    "final = pd.DataFrame([sex, age, feeling, first, second, third]).transpose()"
   ]
  },
  {
   "cell_type": "code",
   "execution_count": 287,
   "id": "prospective-armenia",
   "metadata": {},
   "outputs": [],
   "source": [
    "final.columns = ['성별', '연령대', '기분', '1순위', '2순위', '3순위']"
   ]
  },
  {
   "cell_type": "code",
   "execution_count": 298,
   "id": "fresh-touch",
   "metadata": {},
   "outputs": [
    {
     "data": {
      "text/html": [
       "<div>\n",
       "<style scoped>\n",
       "    .dataframe tbody tr th:only-of-type {\n",
       "        vertical-align: middle;\n",
       "    }\n",
       "\n",
       "    .dataframe tbody tr th {\n",
       "        vertical-align: top;\n",
       "    }\n",
       "\n",
       "    .dataframe thead th {\n",
       "        text-align: right;\n",
       "    }\n",
       "</style>\n",
       "<table border=\"1\" class=\"dataframe\">\n",
       "  <thead>\n",
       "    <tr style=\"text-align: right;\">\n",
       "      <th></th>\n",
       "      <th>성별</th>\n",
       "      <th>연령대</th>\n",
       "      <th>기분</th>\n",
       "      <th>1순위</th>\n",
       "      <th>2순위</th>\n",
       "      <th>3순위</th>\n",
       "    </tr>\n",
       "  </thead>\n",
       "  <tbody>\n",
       "    <tr>\n",
       "      <th>0</th>\n",
       "      <td>여자</td>\n",
       "      <td>노년</td>\n",
       "      <td>행복</td>\n",
       "      <td>한식</td>\n",
       "      <td>중식</td>\n",
       "      <td>중식</td>\n",
       "    </tr>\n",
       "    <tr>\n",
       "      <th>1</th>\n",
       "      <td>여자</td>\n",
       "      <td>노년</td>\n",
       "      <td>행복</td>\n",
       "      <td>한식</td>\n",
       "      <td>일식</td>\n",
       "      <td>일식</td>\n",
       "    </tr>\n",
       "    <tr>\n",
       "      <th>2</th>\n",
       "      <td>남자</td>\n",
       "      <td>노년</td>\n",
       "      <td>행복</td>\n",
       "      <td>일식</td>\n",
       "      <td>중식</td>\n",
       "      <td>중식</td>\n",
       "    </tr>\n",
       "    <tr>\n",
       "      <th>3</th>\n",
       "      <td>여자</td>\n",
       "      <td>노년</td>\n",
       "      <td>행복</td>\n",
       "      <td>한식</td>\n",
       "      <td>일식</td>\n",
       "      <td>일식</td>\n",
       "    </tr>\n",
       "    <tr>\n",
       "      <th>4</th>\n",
       "      <td>남자</td>\n",
       "      <td>노년</td>\n",
       "      <td>행복</td>\n",
       "      <td>한식</td>\n",
       "      <td>일식</td>\n",
       "      <td>한식</td>\n",
       "    </tr>\n",
       "  </tbody>\n",
       "</table>\n",
       "</div>"
      ],
      "text/plain": [
       "   성별 연령대  기분 1순위 2순위 3순위\n",
       "0  여자  노년  행복  한식  중식  중식\n",
       "1  여자  노년  행복  한식  일식  일식\n",
       "2  남자  노년  행복  일식  중식  중식\n",
       "3  여자  노년  행복  한식  일식  일식\n",
       "4  남자  노년  행복  한식  일식  한식"
      ]
     },
     "execution_count": 298,
     "metadata": {},
     "output_type": "execute_result"
    }
   ],
   "source": [
    "final.head()"
   ]
  },
  {
   "cell_type": "code",
   "execution_count": null,
   "id": "difficult-afghanistan",
   "metadata": {},
   "outputs": [],
   "source": [
    "# for i in range(len(final)):\n",
    "#     if final[i:i+1] == "
   ]
  },
  {
   "cell_type": "code",
   "execution_count": 289,
   "id": "handmade-truck",
   "metadata": {},
   "outputs": [
    {
     "name": "stdout",
     "output_type": "stream",
     "text": [
      "Index(['중식', '일식', '양식', '분식'], dtype='object')\n",
      "[0.375 0.375 0.125 0.125]\n"
     ]
    }
   ],
   "source": [
    "d = data['2순위'].value_counts() / len(data)\n",
    "print(d.index)\n",
    "print(d.values)"
   ]
  },
  {
   "cell_type": "markdown",
   "id": "racial-investigation",
   "metadata": {},
   "source": [
    "### 각 메뉴에 1을 더하는 함수 정의"
   ]
  },
  {
   "cell_type": "code",
   "execution_count": 271,
   "id": "modular-marketplace",
   "metadata": {},
   "outputs": [],
   "source": [
    "def plusone(col):\n",
    "    cnt = data[col].value_counts()\n",
    "    print(cnt)\n",
    "    \n",
    "    s = pd.Series() # 빈 시리즈 생성\n",
    "    "
   ]
  },
  {
   "cell_type": "code",
   "execution_count": 297,
   "id": "ranging-joseph",
   "metadata": {},
   "outputs": [
    {
     "data": {
      "text/plain": [
       "pandas.core.series.Series"
      ]
     },
     "execution_count": 297,
     "metadata": {},
     "output_type": "execute_result"
    }
   ],
   "source": [
    "tt = data['1순위'].value_counts()\n",
    "type(tt)"
   ]
  },
  {
   "cell_type": "code",
   "execution_count": 250,
   "id": "continental-wagner",
   "metadata": {},
   "outputs": [
    {
     "data": {
      "text/plain": [
       "중식    0\n",
       "양식    0\n",
       "분식    0\n",
       "dtype: int64"
      ]
     },
     "execution_count": 250,
     "metadata": {},
     "output_type": "execute_result"
    }
   ],
   "source": [
    "d = {'중식': 0, '양식': 0, '분식': 0}\n",
    "\n",
    "t = pd.Series(d)\n",
    "t"
   ]
  },
  {
   "cell_type": "code",
   "execution_count": 253,
   "id": "official-range",
   "metadata": {},
   "outputs": [
    {
     "data": {
      "text/plain": [
       "한식    0.615385\n",
       "일식    0.153846\n",
       "중식    0.076923\n",
       "양식    0.076923\n",
       "분식    0.076923\n",
       "dtype: float64"
      ]
     },
     "execution_count": 253,
     "metadata": {},
     "output_type": "execute_result"
    }
   ],
   "source": [
    "s = tt.append(t) + 1\n",
    "s = s / s.sum()\n",
    "s"
   ]
  },
  {
   "cell_type": "code",
   "execution_count": 248,
   "id": "radio-synthetic",
   "metadata": {},
   "outputs": [
    {
     "data": {
      "text/plain": [
       "array([2, 3, 1, 1, 3, 1, 0, 0, 0, 1, 0, 1, 0, 0, 0, 0, 0, 2, 3, 3, 3, 2,\n",
       "       3, 0, 0, 0, 1, 0, 0, 0, 3, 0, 2, 0, 2, 0, 1, 4, 3, 0, 2, 0])"
      ]
     },
     "execution_count": 248,
     "metadata": {},
     "output_type": "execute_result"
    }
   ],
   "source": [
    "s\n",
    "np.random.choice(len(s.index), 42, p=s.values)"
   ]
  }
 ],
 "metadata": {
  "kernelspec": {
   "display_name": "Python 3",
   "language": "python",
   "name": "python3"
  },
  "language_info": {
   "codemirror_mode": {
    "name": "ipython",
    "version": 3
   },
   "file_extension": ".py",
   "mimetype": "text/x-python",
   "name": "python",
   "nbconvert_exporter": "python",
   "pygments_lexer": "ipython3",
   "version": "3.9.0"
  }
 },
 "nbformat": 4,
 "nbformat_minor": 5
}
