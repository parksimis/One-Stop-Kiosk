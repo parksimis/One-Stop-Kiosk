{
 "cells": [
  {
   "cell_type": "code",
   "execution_count": 87,
   "metadata": {},
   "outputs": [],
   "source": [
    "import pandas as pd\n",
    "import numpy as np"
   ]
  },
  {
   "cell_type": "markdown",
   "metadata": {},
   "source": [
    "# ai 날씨 데이터 합치기"
   ]
  },
  {
   "cell_type": "code",
   "execution_count": 96,
   "metadata": {},
   "outputs": [],
   "source": [
    "people = [\"남자\", \"노년\", \"분노\"]\n",
    "weather = [\"흐림\", \"비옴\"]\n",
    "total_data = people + weather"
   ]
  },
  {
   "cell_type": "markdown",
   "metadata": {},
   "source": [
    "# 자료 원하는형식으로 만들기"
   ]
  },
  {
   "cell_type": "code",
   "execution_count": 97,
   "metadata": {},
   "outputs": [],
   "source": [
    "x = [\"남자\", \"노년\", \"흐림\", \"비옴\", \"분노\"]"
   ]
  },
  {
   "cell_type": "markdown",
   "metadata": {},
   "source": [
    "## 데이터 프레임의 값 채워 넣기(custom데이터 만들기)"
   ]
  },
  {
   "cell_type": "code",
   "execution_count": 98,
   "metadata": {},
   "outputs": [],
   "source": [
    "def fill_value(total_data):\n",
    "    \n",
    "    '''\n",
    "    새로운 고객 데이터를 더미화 및 표준화\n",
    "    '''\n",
    "   \n",
    "\n",
    "    data_d = pd.DataFrame(columns = ['남자', '여자', '노년', '중장년', '청년', '청소년', '분노', '우울', '중립', '행복',\n",
    "                                     '구름많음','맑음', '흐림', '주말', '평일', '아침', '저녁', '점심', '비안옴', '비옴'],\n",
    "                          index=['0']).fillna(0)\n",
    "    \n",
    "    display(data_d)\n",
    "    # AI모델 결과값과 날씨 API 데이터 추가\n",
    "    \n",
    "    for i in total_data:\n",
    "        data_d[total_data] = 1\n",
    "        \n",
    "        \n",
    "    # 시간\n",
    "    from datetime import datetime\n",
    "    now = datetime.now()\n",
    "    now.hour\n",
    "    \n",
    "    if now.hour>=16 and now.hour<=23:\n",
    "        data_d[\"저녁\"] = 1\n",
    "    elif now.hour>=11 and now.hour<16:\n",
    "        data_d[\"점심\"] = 1\n",
    "    else:\n",
    "        data_d[\"아침\"] = 1\n",
    "    \n",
    "    # 요일 \n",
    "    now.weekday()\n",
    "    weekday={0:\"월\",1:\"화\",2:\"수\",3:\"목\",4:\"금\",5:\"토\",6:\"일\"}\n",
    "    week=weekday[now.weekday()]\n",
    "    \n",
    "    if week==\"일\" or  week==\"토\":\n",
    "        data_d[\"주말\"] = 1\n",
    "    else:\n",
    "        data_d[\"평일\"] = 1   \n",
    "#     return data_d\n",
    "    # 표준화 모델 불러오기\n",
    "    sd=joblib.load('data/scalemodel.pkl')\n",
    "    data_sd=pd.DataFrame(sd.transform(data_d))\n",
    "    \n",
    "    # 표준화 된 데이터 프레임 컬럼 rename\n",
    "    data_sd.rename(columns={0:'남자',1:'여자',2:'노년',3:'중장년',4:'청년',5:'청소년',6:'분노',7:'우울',8:'중립',\n",
    "               9:'행복',10:'구름많음',11:'맑음',12:'흐림',13:'주말',14:'평일',15:'아침',16:'저녁',17:'점심',18:\"비안옴\",19:\"비옴\"},inplace=True)\n",
    "  \n",
    "    return data_sd.iloc[0]\n",
    "    \n",
    "        "
   ]
  },
  {
   "cell_type": "code",
   "execution_count": 99,
   "metadata": {},
   "outputs": [
    {
     "data": {
      "text/html": [
       "<div>\n",
       "<style scoped>\n",
       "    .dataframe tbody tr th:only-of-type {\n",
       "        vertical-align: middle;\n",
       "    }\n",
       "\n",
       "    .dataframe tbody tr th {\n",
       "        vertical-align: top;\n",
       "    }\n",
       "\n",
       "    .dataframe thead th {\n",
       "        text-align: right;\n",
       "    }\n",
       "</style>\n",
       "<table border=\"1\" class=\"dataframe\">\n",
       "  <thead>\n",
       "    <tr style=\"text-align: right;\">\n",
       "      <th></th>\n",
       "      <th>남자</th>\n",
       "      <th>여자</th>\n",
       "      <th>노년</th>\n",
       "      <th>중장년</th>\n",
       "      <th>청년</th>\n",
       "      <th>청소년</th>\n",
       "      <th>분노</th>\n",
       "      <th>우울</th>\n",
       "      <th>중립</th>\n",
       "      <th>행복</th>\n",
       "      <th>구름많음</th>\n",
       "      <th>맑음</th>\n",
       "      <th>흐림</th>\n",
       "      <th>주말</th>\n",
       "      <th>평일</th>\n",
       "      <th>아침</th>\n",
       "      <th>저녁</th>\n",
       "      <th>점심</th>\n",
       "      <th>비안옴</th>\n",
       "      <th>비옴</th>\n",
       "    </tr>\n",
       "  </thead>\n",
       "  <tbody>\n",
       "    <tr>\n",
       "      <th>0</th>\n",
       "      <td>0</td>\n",
       "      <td>0</td>\n",
       "      <td>0</td>\n",
       "      <td>0</td>\n",
       "      <td>0</td>\n",
       "      <td>0</td>\n",
       "      <td>0</td>\n",
       "      <td>0</td>\n",
       "      <td>0</td>\n",
       "      <td>0</td>\n",
       "      <td>0</td>\n",
       "      <td>0</td>\n",
       "      <td>0</td>\n",
       "      <td>0</td>\n",
       "      <td>0</td>\n",
       "      <td>0</td>\n",
       "      <td>0</td>\n",
       "      <td>0</td>\n",
       "      <td>0</td>\n",
       "      <td>0</td>\n",
       "    </tr>\n",
       "  </tbody>\n",
       "</table>\n",
       "</div>"
      ],
      "text/plain": [
       "   남자  여자  노년  중장년  청년  청소년  분노  우울  중립  행복  구름많음  맑음  흐림  주말  평일  아침  저녁  점심  \\\n",
       "0   0   0   0    0   0    0   0   0   0   0     0   0   0   0   0   0   0   0   \n",
       "\n",
       "   비안옴  비옴  \n",
       "0    0   0  "
      ]
     },
     "metadata": {},
     "output_type": "display_data"
    },
    {
     "data": {
      "text/plain": [
       "남자      0.838955\n",
       "여자     -0.838955\n",
       "노년      2.803569\n",
       "중장년    -0.529478\n",
       "청년     -0.808075\n",
       "청소년    -0.613006\n",
       "분노      4.598913\n",
       "우울     -0.490812\n",
       "중립     -0.640959\n",
       "행복     -0.940801\n",
       "구름많음   -0.340395\n",
       "맑음     -0.874609\n",
       "흐림      1.077486\n",
       "주말     -0.704714\n",
       "평일      0.704714\n",
       "아침     -0.384276\n",
       "저녁     -1.092277\n",
       "점심      1.433587\n",
       "비안옴    -1.170036\n",
       "비옴      1.170036\n",
       "Name: 0, dtype: float64"
      ]
     },
     "execution_count": 99,
     "metadata": {},
     "output_type": "execute_result"
    }
   ],
   "source": [
    "customer_data=fill_value(x)\n",
    "customer_data"
   ]
  },
  {
   "cell_type": "markdown",
   "metadata": {},
   "source": [
    "# 추천 모델"
   ]
  },
  {
   "cell_type": "code",
   "execution_count": 92,
   "metadata": {},
   "outputs": [],
   "source": [
    "def cluster_result(customer_data):\n",
    "    \n",
    "    '''\n",
    "    우리가 만든 kmean 모델 불러와서 가장 가까운 군집 판별\n",
    "    '''\n",
    "    # 군집모델 불러오기\n",
    "    import joblib\n",
    "    model=joblib.load('data/model.pkl')\n",
    "     # 군집모델로 가까운 군집 색출\n",
    "    cluster_value=model.predict(customer_data.values.reshape(1, -1))[0]\n",
    "    \n",
    "    return cluster_value"
   ]
  },
  {
   "cell_type": "code",
   "execution_count": 93,
   "metadata": {},
   "outputs": [
    {
     "data": {
      "text/plain": [
       "2"
      ]
     },
     "execution_count": 93,
     "metadata": {},
     "output_type": "execute_result"
    }
   ],
   "source": [
    "cluster_value=cluster_result(customer_data)\n",
    "cluster_value"
   ]
  },
  {
   "cell_type": "code",
   "execution_count": 94,
   "metadata": {},
   "outputs": [],
   "source": [
    "def recomend_Top3(total_data):\n",
    "    '''\n",
    "    판별된 군집의 음식 top3 추천\n",
    "    '''\n",
    "    #정의된 함수 불러오기\n",
    "    customer_data=fill_value(total_data)\n",
    "    cluster_value=cluster_result(customer_data)\n",
    "    \n",
    "    # 군집 label과 음식데이터 확률이 들어있는 dict 불러오기\n",
    "    import json\n",
    "    cluster_value=str(cluster_value)\n",
    "    with open(\"data/recommend_group.json\", \"r\", encoding='utf-8') as json_file:\n",
    "        json_data = json.load(json_file)\n",
    "    # top3 음식 반환\n",
    "    return sorted(json_data['word'][cluster_value], key= lambda x : json_data['word'][cluster_value][x], reverse=True)[0:3]"
   ]
  },
  {
   "cell_type": "code",
   "execution_count": 95,
   "metadata": {},
   "outputs": [
    {
     "data": {
      "text/plain": [
       "['초밥', '파스타', '불고기']"
      ]
     },
     "execution_count": 95,
     "metadata": {},
     "output_type": "execute_result"
    }
   ],
   "source": [
    "recomend_Top3(total_data)"
   ]
  },
  {
   "cell_type": "code",
   "execution_count": null,
   "metadata": {},
   "outputs": [],
   "source": []
  }
 ],
 "metadata": {
  "kernelspec": {
   "display_name": "Python 3",
   "language": "python",
   "name": "python3"
  },
  "language_info": {
   "codemirror_mode": {
    "name": "ipython",
    "version": 3
   },
   "file_extension": ".py",
   "mimetype": "text/x-python",
   "name": "python",
   "nbconvert_exporter": "python",
   "pygments_lexer": "ipython3",
   "version": "3.8.5"
  }
 },
 "nbformat": 4,
 "nbformat_minor": 4
}
