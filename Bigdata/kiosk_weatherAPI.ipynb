{
 "cells": [
  {
   "cell_type": "code",
   "execution_count": 12,
   "id": "informative-adelaide",
   "metadata": {},
   "outputs": [],
   "source": [
    "import requests\n",
    "from urllib.parse import quote\n",
    "from bs4 import BeautifulSoup"
   ]
  },
  {
   "cell_type": "markdown",
   "id": "mexican-aberdeen",
   "metadata": {},
   "source": [
    "### Ventusky URL 불러오기"
   ]
  },
  {
   "cell_type": "code",
   "execution_count": 17,
   "id": "automotive-pakistan",
   "metadata": {},
   "outputs": [],
   "source": [
    "def get_html(url):\n",
    "    '''\n",
    "    url 주소를 입력 받아, html 페이지를 scrapping 하는 함수\n",
    "    \n",
    "    * Parameter\n",
    "    param url : 원하는 페이지 url 주소\n",
    "    \n",
    "    * Output\n",
    "    return html : 해당 주소의 html 페이지\n",
    "    '''\n",
    "    \n",
    "    response = requests.get(url)\n",
    "    res = requests.get(url)\n",
    "    html = res.text\n",
    "    soup = BeautifulSoup(html, 'html.parser')\n",
    "    \n",
    "    return html, soup"
   ]
  },
  {
   "cell_type": "code",
   "execution_count": 18,
   "id": "third-framework",
   "metadata": {},
   "outputs": [],
   "source": [
    "weather_url, soup = get_html('https://www.ventusky.com/ko/37.571;126.977')"
   ]
  },
  {
   "cell_type": "markdown",
   "id": "utility-fitting",
   "metadata": {},
   "source": [
    "### URL에서 필요한 데이터 추출\n",
    "#### (1) 구름량"
   ]
  },
  {
   "cell_type": "code",
   "execution_count": 21,
   "id": "recent-weekend",
   "metadata": {},
   "outputs": [],
   "source": [
    "def get_cloud_amount(weather_url, soup):\n",
    "    '''\n",
    "    서울 지역의 현재 구름량을 확인해 결과를 반환하는 함수\n",
    "    \n",
    "    * Input\n",
    "    weather_url : 연결되는 url\n",
    "    \n",
    "    * Output\n",
    "    return : cloud:구름량\n",
    "    '''\n",
    "    \n",
    "    html = get_html('https://www.ventusky.com/ko/37.571;126.977')\n",
    "    cloud = soup.select('.info_table')[2].select('td')[5].text.strip().split()[0]\n",
    "    \n",
    "    return cloud"
   ]
  },
  {
   "cell_type": "code",
   "execution_count": 23,
   "id": "falling-socket",
   "metadata": {},
   "outputs": [
    {
     "data": {
      "text/plain": [
       "'0'"
      ]
     },
     "execution_count": 23,
     "metadata": {},
     "output_type": "execute_result"
    }
   ],
   "source": [
    "get_cloud_amount(weather_url, soup)"
   ]
  },
  {
   "cell_type": "markdown",
   "id": "radio-motion",
   "metadata": {},
   "source": [
    "#### (2) 온도"
   ]
  },
  {
   "cell_type": "code",
   "execution_count": 24,
   "id": "southeast-occasion",
   "metadata": {},
   "outputs": [],
   "source": [
    "def get_temperature(weather_url, soup):\n",
    "    '''\n",
    "    서울 지역의 현재 온도를 확인해 결과를 반환하는 함수\n",
    "    \n",
    "    * Input\n",
    "    weather_url : 연결되는 url\n",
    "    \n",
    "    * Output\n",
    "    return : temp:온도\n",
    "    '''\n",
    "    \n",
    "    html = get_html('https://www.ventusky.com/ko/37.571;126.977')\n",
    "    ondo = soup.select('.info_table')[0].select('td')[1].text.strip().split()[0]\n",
    "    \n",
    "    return ondo"
   ]
  },
  {
   "cell_type": "code",
   "execution_count": 25,
   "id": "challenging-oxygen",
   "metadata": {},
   "outputs": [
    {
     "data": {
      "text/plain": [
       "'17'"
      ]
     },
     "execution_count": 25,
     "metadata": {},
     "output_type": "execute_result"
    }
   ],
   "source": [
    "get_temperature(weather_url, soup)"
   ]
  },
  {
   "cell_type": "markdown",
   "id": "brilliant-share",
   "metadata": {},
   "source": [
    "#### (3) 강수량"
   ]
  },
  {
   "cell_type": "code",
   "execution_count": 26,
   "id": "likely-happening",
   "metadata": {},
   "outputs": [],
   "source": [
    "def get_rainfall_amount(weather_url, soup):\n",
    "    '''\n",
    "    서울 지역의 현재 온도를 확인해 결과를 반환하는 함수\n",
    "    \n",
    "    * Input\n",
    "    param session : 연결되는 세선\n",
    "    \n",
    "    * Output\n",
    "    return : rain:강수량\n",
    "    '''\n",
    "    \n",
    "    html = get_html('https://www.ventusky.com/ko/37.571;126.977')\n",
    "    rain = soup.select('.mesto-predpoved')[0].select('td')[0].select('span')[1].text.split()[0]\n",
    "    \n",
    "    return rain"
   ]
  },
  {
   "cell_type": "code",
   "execution_count": 27,
   "id": "confident-silicon",
   "metadata": {},
   "outputs": [
    {
     "data": {
      "text/plain": [
       "'0'"
      ]
     },
     "execution_count": 27,
     "metadata": {},
     "output_type": "execute_result"
    }
   ],
   "source": [
    "get_rainfall_amount(weather_url, soup)"
   ]
  }
 ],
 "metadata": {
  "kernelspec": {
   "display_name": "Python 3",
   "language": "python",
   "name": "python3"
  },
  "language_info": {
   "codemirror_mode": {
    "name": "ipython",
    "version": 3
   },
   "file_extension": ".py",
   "mimetype": "text/x-python",
   "name": "python",
   "nbconvert_exporter": "python",
   "pygments_lexer": "ipython3",
   "version": "3.9.0"
  }
 },
 "nbformat": 4,
 "nbformat_minor": 5
}
