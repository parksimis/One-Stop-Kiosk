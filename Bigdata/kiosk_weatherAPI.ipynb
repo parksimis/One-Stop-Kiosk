{
 "cells": [
  {
   "cell_type": "code",
   "execution_count": 1,
   "id": "informative-adelaide",
   "metadata": {},
   "outputs": [],
   "source": [
    "import requests\n",
    "from urllib.parse import quote\n",
    "from bs4 import BeautifulSoup"
   ]
  },
  {
   "cell_type": "markdown",
   "id": "mexican-aberdeen",
   "metadata": {},
   "source": [
    "### Ventusky URL 불러오기"
   ]
  },
  {
   "cell_type": "code",
   "execution_count": 2,
   "id": "automotive-pakistan",
   "metadata": {},
   "outputs": [],
   "source": [
    "def get_html(url):\n",
    "    '''\n",
    "    url 주소를 입력 받아, html 페이지를 scrapping 하는 함수\n",
    "    \n",
    "    * Parameter\n",
    "    param url : 원하는 페이지 url 주소\n",
    "    \n",
    "    * Output\n",
    "    return html : 해당 주소의 html 페이지\n",
    "    '''\n",
    "    \n",
    "    response = requests.get(url)\n",
    "    res = requests.get(url)\n",
    "    html = res.text\n",
    "    soup = BeautifulSoup(html, 'html.parser')\n",
    "    \n",
    "    return soup"
   ]
  },
  {
   "cell_type": "code",
   "execution_count": 4,
   "id": "third-framework",
   "metadata": {},
   "outputs": [],
   "source": [
    "soup = get_html('https://www.ventusky.com/ko/37.571;126.977')"
   ]
  },
  {
   "cell_type": "markdown",
   "id": "utility-fitting",
   "metadata": {},
   "source": [
    "### URL에서 필요한 데이터 추출\n",
    "#### (1) 구름량"
   ]
  },
  {
   "cell_type": "code",
   "execution_count": 17,
   "id": "recent-weekend",
   "metadata": {},
   "outputs": [],
   "source": [
    "def get_cloud_amount(soup):\n",
    "    '''\n",
    "    서울 지역의 현재 구름량을 확인해 결과를 반환하는 함수\n",
    "    \n",
    "    * Input\n",
    "    weather_url : 연결되는 url\n",
    "    \n",
    "    * Output\n",
    "    return : cloud:구름량\n",
    "    '''\n",
    "    \n",
    "    for row in soup.select('.info_table')[2].select('tr'):\n",
    "        if row.select('td')[0].text.strip() == '구름량':\n",
    "            cloud = row.select('td')[1].text.strip().split()[0]\n",
    "\n",
    "    cloud = int(cloud) / 10\n",
    "    \n",
    "    \n",
    "    # 구름량 분류 기준\n",
    "    if 0 <= cloud <= 5:\n",
    "        return '맑음'\n",
    "    elif 6 <= cloud <= 8:\n",
    "        return '구름많음'\n",
    "    elif 9 <= cloud <= 10:\n",
    "        return '흐림'"
   ]
  },
  {
   "cell_type": "code",
   "execution_count": 18,
   "id": "falling-socket",
   "metadata": {},
   "outputs": [
    {
     "data": {
      "text/plain": [
       "'흐림'"
      ]
     },
     "execution_count": 18,
     "metadata": {},
     "output_type": "execute_result"
    }
   ],
   "source": [
    "cloud = get_cloud_amount(soup)\n",
    "cloud"
   ]
  },
  {
   "cell_type": "markdown",
   "id": "dense-looking",
   "metadata": {},
   "source": [
    "#### (2) 온도"
   ]
  },
  {
   "cell_type": "code",
   "execution_count": 11,
   "id": "southeast-occasion",
   "metadata": {},
   "outputs": [],
   "source": [
    "def get_temperature(soup):\n",
    "    '''\n",
    "    서울 지역의 현재 온도를 확인해 결과를 반환하는 함수\n",
    "    \n",
    "    * Input\n",
    "    weather_url : 연결되는 url\n",
    "    \n",
    "    * Output\n",
    "    return : temp:온도\n",
    "    '''\n",
    "    \n",
    "    ondo = soup.select('.info_table')[0].select('td')[1].text.strip().split()[0]\n",
    "    \n",
    "    return ondo"
   ]
  },
  {
   "cell_type": "code",
   "execution_count": 12,
   "id": "challenging-oxygen",
   "metadata": {},
   "outputs": [
    {
     "data": {
      "text/plain": [
       "'19'"
      ]
     },
     "execution_count": 12,
     "metadata": {},
     "output_type": "execute_result"
    }
   ],
   "source": [
    "get_temperature(soup)"
   ]
  },
  {
   "cell_type": "markdown",
   "id": "brilliant-share",
   "metadata": {},
   "source": [
    "#### (3) 강수량"
   ]
  },
  {
   "cell_type": "code",
   "execution_count": 20,
   "id": "likely-happening",
   "metadata": {},
   "outputs": [],
   "source": [
    "def get_rainfall_amount(soup):\n",
    "    '''\n",
    "    서울 지역의 현재 온도를 확인해 결과를 반환하는 함수\n",
    "    \n",
    "    * Input\n",
    "    param session : 연결되는 세선\n",
    "    \n",
    "    * Output\n",
    "    return : rain:강수량\n",
    "    '''\n",
    "    \n",
    "    rain = soup.select('.mesto-predpoved')[0].select('td')[0].select('span')[1].text.split()[0]\n",
    "    \n",
    "    \n",
    "    # 강수량 분류 기준\n",
    "    if float(rain) > 0:\n",
    "        return '비옴'\n",
    "    else:\n",
    "        return '비안옴'"
   ]
  },
  {
   "cell_type": "code",
   "execution_count": 21,
   "id": "confident-silicon",
   "metadata": {},
   "outputs": [
    {
     "data": {
      "text/plain": [
       "'비옴'"
      ]
     },
     "execution_count": 21,
     "metadata": {},
     "output_type": "execute_result"
    }
   ],
   "source": [
    "rain = get_rainfall_amount(soup)\n",
    "rain"
   ]
  },
  {
   "cell_type": "markdown",
   "id": "third-camping",
   "metadata": {},
   "source": [
    "#### (4) 병합"
   ]
  },
  {
   "cell_type": "code",
   "execution_count": 22,
   "id": "alpha-carolina",
   "metadata": {},
   "outputs": [],
   "source": [
    "def get_weather(url):\n",
    "    '''\n",
    "        함수를 병합하는 함수\n",
    "    '''\n",
    "    soup = get_html(url)\n",
    "    cloudy = get_cloud_amount(soup)\n",
    "    rain = get_rainfall_amount(soup)\n",
    "\n",
    "    return [cloudy, rain]"
   ]
  }
 ],
 "metadata": {
  "kernelspec": {
   "display_name": "Python 3",
   "language": "python",
   "name": "python3"
  },
  "language_info": {
   "codemirror_mode": {
    "name": "ipython",
    "version": 3
   },
   "file_extension": ".py",
   "mimetype": "text/x-python",
   "name": "python",
   "nbconvert_exporter": "python",
   "pygments_lexer": "ipython3",
   "version": "3.9.0"
  }
 },
 "nbformat": 4,
 "nbformat_minor": 5
}
